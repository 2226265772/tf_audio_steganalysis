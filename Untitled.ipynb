{
 "cells": [
  {
   "cell_type": "code",
   "execution_count": 1,
   "metadata": {},
   "outputs": [],
   "source": [
    "import tensorflow as tf"
   ]
  },
  {
   "cell_type": "code",
   "execution_count": 38,
   "metadata": {},
   "outputs": [
    {
     "name": "stdout",
     "output_type": "stream",
     "text": [
      "[[[[ 0.19989486 -0.03748679 -0.22380042 -0.04678271 -0.16158345 -0.02685006]\n",
      "   [ 1.65206122  1.45320141  1.38281822  2.16079283  2.22406483  1.73478854]\n",
      "   [-1.04240561 -1.65091872 -2.3507607  -1.93043852 -1.5761807  -1.93751144]\n",
      "   [ 0.69789398  0.62458801  1.05282068  0.88667691  0.85310411  1.07451499]]]\n",
      "\n",
      "\n",
      " [[[ 0.37304378 -0.05584465  0.40518433 -0.09986038 -0.36904627  0.25680894]\n",
      "   [ 2.49922228  1.78886819  2.3256731   2.21205974  1.50238824  1.59997678]\n",
      "   [-1.32769239 -2.86386108 -1.2238754  -2.15182519 -2.11450243 -1.74487889]\n",
      "   [ 1.06977916  1.5695802   0.67876661  1.37257934  0.93407899  0.8030116 ]]]\n",
      "\n",
      "\n",
      " [[[-0.15472575  0.37173548 -0.23402694 -0.30664891 -0.0207536   0.08015864]\n",
      "   [ 2.31958866  2.24126339  1.68154132  2.02918744  2.14006853  2.3573668 ]\n",
      "   [-2.17715502 -1.00580215 -2.56465983 -1.88133276 -3.32941127 -2.3394289 ]\n",
      "   [ 1.29506481  0.75322092  1.08596027  0.83238709  1.53800845  1.57415044]]]]\n",
      "(3, 1, 4, 6)\n"
     ]
    }
   ],
   "source": [
    "a = tf.random_normal([3,4,5,6], dtype=tf.float32)\n",
    "a_max = tf.reduce_max(input_tensor=a, axis=[1, 2], keep_dims=True, name=\"max\")\n",
    "a_min = tf.reduce_min(input_tensor=a, axis=[1, 2], keep_dims=True, name=\"min\")\n",
    "a_mean, a_variance = tf.nn.moments(x=a, axes=[1, 2], keep_dims=True)\n",
    "\n",
    "result = tf.concat([a_mean, a_max, a_min, a_variance], 2)\n",
    "with tf.Session() as sess:    \n",
    "    print(sess.run(result))\n",
    "    print(result.get_shape())"
   ]
  },
  {
   "cell_type": "code",
   "execution_count": 27,
   "metadata": {},
   "outputs": [
    {
     "name": "stdout",
     "output_type": "stream",
     "text": [
      "(3, 2)\n",
      "3.5 2.91667 3.5\n"
     ]
    }
   ],
   "source": [
    "x = tf.constant([[1,2],[3,4],[5,6]], dtype=tf.float32)\n",
    "mean, variance = tf.nn.moments(x, [0, 1])\n",
    "mm = tf.reduce_mean(x,[0, 1])\n",
    "sess = tf.Session()\n",
    "print(x.get_shape())\n",
    "print(sess.run(mean), sess.run(variance), sess.run(mm))"
   ]
  },
  {
   "cell_type": "code",
   "execution_count": 39,
   "metadata": {},
   "outputs": [],
   "source": [
    "from functools import reduce\n",
    "from operator import mul"
   ]
  },
  {
   "cell_type": "code",
   "execution_count": 47,
   "metadata": {},
   "outputs": [
    {
     "name": "stdout",
     "output_type": "stream",
     "text": [
      "50.0\n"
     ]
    }
   ],
   "source": [
    "accuracy = list()\n",
    "for i in range(101):\n",
    "    accuracy.append(i)\n",
    "accuracy_average = sum(accuracy) / len(accuracy)\n",
    "print(accuracy_average)"
   ]
  },
  {
   "cell_type": "code",
   "execution_count": 52,
   "metadata": {},
   "outputs": [
    {
     "name": "stdout",
     "output_type": "stream",
     "text": [
      "2\n"
     ]
    }
   ],
   "source": [
    "from skimage import io, util\n",
    "import numpy as np\n",
    "image = io.imread(\"C:/Users/Charles_CatKing/Desktop/train/512_cover/2501.pgm\")\n",
    "image_shape = np.shape(image)\n",
    "print(len(image_shape))"
   ]
  },
  {
   "cell_type": "code",
   "execution_count": 57,
   "metadata": {},
   "outputs": [
    {
     "ename": "IndexError",
     "evalue": "too many indices for array",
     "output_type": "error",
     "traceback": [
      "\u001b[1;31m---------------------------------------------------------------------------\u001b[0m",
      "\u001b[1;31mIndexError\u001b[0m                                Traceback (most recent call last)",
      "\u001b[1;32m<ipython-input-57-4aa8f5f4c7f3>\u001b[0m in \u001b[0;36m<module>\u001b[1;34m()\u001b[0m\n\u001b[1;32m----> 1\u001b[1;33m \u001b[0mimg\u001b[0m \u001b[1;33m=\u001b[0m \u001b[0mimage\u001b[0m\u001b[1;33m[\u001b[0m\u001b[1;33m:\u001b[0m\u001b[1;36m515\u001b[0m\u001b[1;33m,\u001b[0m \u001b[1;33m:\u001b[0m\u001b[1;36m512\u001b[0m\u001b[1;33m,\u001b[0m\u001b[1;33m:\u001b[0m\u001b[1;33m]\u001b[0m\u001b[1;33m\u001b[0m\u001b[0m\n\u001b[0m\u001b[0;32m      2\u001b[0m \u001b[0mprint\u001b[0m\u001b[1;33m(\u001b[0m\u001b[0mnp\u001b[0m\u001b[1;33m.\u001b[0m\u001b[0mshape\u001b[0m\u001b[1;33m(\u001b[0m\u001b[0mimg\u001b[0m\u001b[1;33m)\u001b[0m\u001b[1;33m)\u001b[0m\u001b[1;33m\u001b[0m\u001b[0m\n",
      "\u001b[1;31mIndexError\u001b[0m: too many indices for array"
     ]
    }
   ],
   "source": [
    "img = image[:515, :512,:]\n",
    "print(np.shape(img))"
   ]
  },
  {
   "cell_type": "code",
   "execution_count": 108,
   "metadata": {},
   "outputs": [],
   "source": [
    "import csv\n",
    "\n",
    "train_accuracy_file = open(\"test.csv\", \"a+\", newline=\"\")\n",
    "writer = csv.writer(train_accuracy_file)\n",
    "a = [1.1, 2.0, 3.0]\n",
    "b = [1.2, 2.3, 3.4]\n",
    "i = 0\n",
    "while i < len(a):\n",
    "   writer.writerow([a[i], b[i]])\n",
    "   i += 1\n",
    "train_accuracy_file.close()"
   ]
  },
  {
   "cell_type": "code",
   "execution_count": 111,
   "metadata": {},
   "outputs": [
    {
     "name": "stdout",
     "output_type": "stream",
     "text": [
      "1.1\n",
      "2.0\n",
      "3.0\n"
     ]
    }
   ],
   "source": [
    "with open(\"test.csv\", \"r\") as file:\n",
    "    reader = csv.reader(file)\n",
    "    for row in reader:\n",
    "        print(float(row[0]))"
   ]
  },
  {
   "cell_type": "code",
   "execution_count": 123,
   "metadata": {},
   "outputs": [
    {
     "ename": "TypeError",
     "evalue": "unsupported operand type(s) for /: 'list' and 'int'",
     "output_type": "error",
     "traceback": [
      "\u001b[1;31m---------------------------------------------------------------------------\u001b[0m",
      "\u001b[1;31mTypeError\u001b[0m                                 Traceback (most recent call last)",
      "\u001b[1;32m<ipython-input-123-2617e731c960>\u001b[0m in \u001b[0;36m<module>\u001b[1;34m()\u001b[0m\n\u001b[1;32m----> 1\u001b[1;33m \u001b[1;33m[\u001b[0m\u001b[0ma\u001b[0m\u001b[1;33m,\u001b[0m\u001b[0mb\u001b[0m\u001b[1;33m]\u001b[0m \u001b[1;33m=\u001b[0m \u001b[1;33m[\u001b[0m\u001b[1;36m4\u001b[0m\u001b[1;33m,\u001b[0m \u001b[1;36m6\u001b[0m\u001b[1;33m]\u001b[0m \u001b[1;33m/\u001b[0m \u001b[1;36m2\u001b[0m\u001b[1;33m\u001b[0m\u001b[0m\n\u001b[0m",
      "\u001b[1;31mTypeError\u001b[0m: unsupported operand type(s) for /: 'list' and 'int'"
     ]
    }
   ],
   "source": [
    "[a,b] = [4, 6] / 2"
   ]
  },
  {
   "cell_type": "code",
   "execution_count": 119,
   "metadata": {},
   "outputs": [
    {
     "data": {
      "image/png": "[encoded data removed]",
      "text/plain": [
       "<matplotlib.figure.Figure at 0x1cb547b0978>"
      ]
     },
     "metadata": {},
     "output_type": "display_data"
    }
   ],
   "source": []
  },
  {
   "cell_type": "code",
   "execution_count": 7,
   "metadata": {},
   "outputs": [
    {
     "data": {
      "text/plain": [
       "array([[ 1,  2,  3,  7,  8],\n",
       "       [ 4,  5,  6, 10, 11]])"
      ]
     },
     "execution_count": 7,
     "metadata": {},
     "output_type": "execute_result"
    }
   ],
   "source": [
    "a = [[1, 2, 3], [4, 5, 6]]\n",
    "b = [[7, 8], [10, 11]]\n",
    "c = tf.concat([a,b], 1)\n",
    "sess = tf.Session()\n",
    "sess.run(c)"
   ]
  },
  {
   "cell_type": "code",
   "execution_count": null,
   "metadata": {},
   "outputs": [],
   "source": []
  }
 ],
 "metadata": {
  "kernelspec": {
   "display_name": "Python 3",
   "language": "python",
   "name": "python3"
  },
  "language_info": {
   "codemirror_mode": {
    "name": "ipython",
    "version": 3
   },
   "file_extension": ".py",
   "mimetype": "text/x-python",
   "name": "python",
   "nbconvert_exporter": "python",
   "pygments_lexer": "ipython3",
   "version": "3.5.0"
  }
 },
 "nbformat": 4,
 "nbformat_minor": 2
}
