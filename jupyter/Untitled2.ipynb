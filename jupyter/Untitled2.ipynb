{
 "cells": [
  {
   "cell_type": "code",
   "execution_count": 2,
   "metadata": {
    "slideshow": {
     "slide_type": "-"
    }
   },
   "outputs": [],
   "source": [
    "import tensorflow as tf\n",
    "from skimage import io\n",
    "import numpy as np"
   ]
  },
  {
   "cell_type": "code",
   "execution_count": 76,
   "metadata": {
    "scrolled": false
   },
   "outputs": [
    {
     "name": "stdout",
     "output_type": "stream",
     "text": [
      "[[[132]\n",
      "  [127]\n",
      "  [119]\n",
      "  ..., \n",
      "  [111]\n",
      "  [114]\n",
      "  [114]]\n",
      "\n",
      " [[134]\n",
      "  [126]\n",
      "  [135]\n",
      "  ..., \n",
      "  [105]\n",
      "  [105]\n",
      "  [105]]\n",
      "\n",
      " [[136]\n",
      "  [137]\n",
      "  [141]\n",
      "  ..., \n",
      "  [113]\n",
      "  [114]\n",
      "  [112]]\n",
      "\n",
      " ..., \n",
      " [[123]\n",
      "  [130]\n",
      "  [136]\n",
      "  ..., \n",
      "  [175]\n",
      "  [192]\n",
      "  [206]]\n",
      "\n",
      " [[127]\n",
      "  [127]\n",
      "  [124]\n",
      "  ..., \n",
      "  [197]\n",
      "  [199]\n",
      "  [190]]\n",
      "\n",
      " [[127]\n",
      "  [123]\n",
      "  [123]\n",
      "  ..., \n",
      "  [201]\n",
      "  [194]\n",
      "  [185]]]\n"
     ]
    }
   ],
   "source": [
    "image_file_path = r\"F:\\papers\\FeaDistribution\\spa\\stego\\0.2\\0001.bmp\"\n",
    "img = io.imread(image_file_path)\n",
    "img = img[1000:1100, 1000:1100, 0:1]\n",
    "[height, width, channel] = np.shape(img)\n",
    "# img = np.reshape(img, [height, width, channel])\n",
    "img_new = np.zeros([2, height, width, channel], dtype=np.float32)\n",
    "img_new[0] = img\n",
    "img_new[1] = img"
   ]
  },
  {
   "cell_type": "code",
   "execution_count": 77,
   "metadata": {},
   "outputs": [
    {
     "name": "stdout",
     "output_type": "stream",
     "text": [
      "(2, 100, 100, 1)\n"
     ]
    }
   ],
   "source": [
    "img_tensor = tf.convert_to_tensor(img_new,\n",
    "                                 dtype=tf.float32)\n",
    "print(img_tensor.get_shape())"
   ]
  },
  {
   "cell_type": "code",
   "execution_count": 61,
   "metadata": {},
   "outputs": [],
   "source": [
    "downsampling_kernel1 = tf.constant(value=[1, 0, 0, 0],\n",
    "                                   dtype=tf.float32,\n",
    "                                   shape=[2, 2, 1, 1],\n",
    "                                   name=\"downsampling_kernel1\")\n",
    "\n",
    "downsampling_kernel2 = tf.constant(value=[0, 1, 0, 0],\n",
    "                                   dtype=tf.float32,\n",
    "                                   shape=[2, 2, 1, 1],\n",
    "                                   name=\"downsampling_kernel2\")\n",
    "\n",
    "downsampling_kernel3 = tf.constant(value=[0, 0, 1, 0],\n",
    "                                   dtype=tf.float32,\n",
    "                                   shape=[2, 2, 1, 1],\n",
    "                                   name=\"downsampling_kernel3\")\n",
    "\n",
    "downsampling_kernel4 = tf.constant(value=[0, 0, 0, 1],\n",
    "                                   dtype=tf.float32,\n",
    "                                   shape=[2, 2, 1, 1],\n",
    "                                   name=\"downsampling_kernel4\")"
   ]
  },
  {
   "cell_type": "code",
   "execution_count": 78,
   "metadata": {},
   "outputs": [
    {
     "data": {
      "text/plain": [
       "<tf.Tensor 'concat_8:0' shape=(2, 50, 50, 4) dtype=float32>"
      ]
     },
     "execution_count": 78,
     "metadata": {},
     "output_type": "execute_result"
    }
   ],
   "source": [
    "x_stride, y_stride = 2, 2\n",
    "padding = \"VALID\"\n",
    "conv1 = tf.nn.conv2d(input=img_tensor,\n",
    "                     filter=downsampling_kernel1,\n",
    "                     strides=[1, x_stride, y_stride, 1],\n",
    "                     padding=padding,\n",
    "                     name=\"conv1\")\n",
    "conv2 = tf.nn.conv2d(input=img_tensor,\n",
    "                     filter=downsampling_kernel2,\n",
    "                     strides=[1, x_stride, y_stride, 1],\n",
    "                     padding=padding,\n",
    "                     name=\"conv2\")\n",
    "conv3 = tf.nn.conv2d(input=img_tensor,\n",
    "                     filter=downsampling_kernel3,\n",
    "                     strides=[1, x_stride, y_stride, 1],\n",
    "                     padding=padding,\n",
    "                     name=\"conv3\")\n",
    "conv4 = tf.nn.conv2d(input=img_tensor,\n",
    "                     filter=downsampling_kernel4,\n",
    "                     strides=[1, x_stride, y_stride, 1],\n",
    "                     padding=padding,\n",
    "                     name=\"conv4\")\n",
    "tf.concat([conv1, conv2, conv3, conv4], 3)\n"
   ]
  },
  {
   "cell_type": "code",
   "execution_count": 79,
   "metadata": {},
   "outputs": [
    {
     "name": "stdout",
     "output_type": "stream",
     "text": [
      "(2, 50, 50, 1)\n"
     ]
    }
   ],
   "source": [
    "print(conv1.get_shape())"
   ]
  },
  {
   "cell_type": "code",
   "execution_count": 80,
   "metadata": {},
   "outputs": [],
   "source": [
    "def down_sampling(input_data, x_stride, y_stride, name, padding=\"VALID\"):\n",
    "    \"\"\"\n",
    "    get m * m(m is 2 in general) down sampling layer\n",
    "    :param input_data: the input data tensor [batch_size, height, width, channels]\n",
    "    :param x_stride: stride in X axis\n",
    "    :param y_stride: stride in Y axis\n",
    "    :param name: the name of the layer\n",
    "    :param padding: the padding method, \"SAME\" | \"VALID\"\n",
    "    :return:\n",
    "        feature_map: 4-D tensor [number, height, width, channel]\n",
    "    \"\"\"\n",
    "    conv1 = tf.nn.conv2d(input=input_data,\n",
    "                         filter=downsampling_kernel1,\n",
    "                         strides=[1, x_stride, y_stride, 1],\n",
    "                         padding=padding,\n",
    "                         name=\"conv1\")\n",
    "\n",
    "    conv2 = tf.nn.conv2d(input=input_data,\n",
    "                         filter=downsampling_kernel1,\n",
    "                         strides=[1, x_stride, y_stride, 1],\n",
    "                         padding=padding,\n",
    "                         name=\"conv2\")\n",
    "\n",
    "    conv3 = tf.nn.conv2d(input=input_data,\n",
    "                         filter=downsampling_kernel1,\n",
    "                         strides=[1, x_stride, y_stride, 1],\n",
    "                         padding=padding,\n",
    "                         name=\"conv3\")\n",
    "\n",
    "    conv4 = tf.nn.conv2d(input=input_data,\n",
    "                         filter=downsampling_kernel1,\n",
    "                         strides=[1, x_stride, y_stride, 1],\n",
    "                         padding=padding,\n",
    "                         name=\"conv4\")\n",
    "\n",
    "    conv_concat = tf.concat([conv1, conv2, conv3, conv4], 3, name=name)\n",
    "\n",
    "    return conv_concat"
   ]
  },
  {
   "cell_type": "code",
   "execution_count": 81,
   "metadata": {},
   "outputs": [
    {
     "name": "stdout",
     "output_type": "stream",
     "text": [
      "(2, 50, 50, 4)\n"
     ]
    }
   ],
   "source": [
    "conv = down_sampling(img_tensor, 2, 2, \"conv\", padding=\"VALID\")\n",
    "print(conv.get_shape())"
   ]
  },
  {
   "cell_type": "code",
   "execution_count": 96,
   "metadata": {},
   "outputs": [
    {
     "name": "stdout",
     "output_type": "stream",
     "text": [
      "(2, 50, 50, 4)\n",
      "[[[[ 132.]\n",
      "   [ 119.]\n",
      "   [ 126.]\n",
      "   ..., \n",
      "   [ 128.]\n",
      "   [ 117.]\n",
      "   [ 114.]]\n",
      "\n",
      "  [[ 136.]\n",
      "   [ 141.]\n",
      "   [ 144.]\n",
      "   ..., \n",
      "   [ 110.]\n",
      "   [ 116.]\n",
      "   [ 114.]]\n",
      "\n",
      "  [[ 112.]\n",
      "   [ 122.]\n",
      "   [ 132.]\n",
      "   ..., \n",
      "   [ 109.]\n",
      "   [ 110.]\n",
      "   [ 112.]]\n",
      "\n",
      "  ..., \n",
      "  [[ 128.]\n",
      "   [ 116.]\n",
      "   [ 127.]\n",
      "   ..., \n",
      "   [ 224.]\n",
      "   [ 213.]\n",
      "   [ 185.]]\n",
      "\n",
      "  [[ 124.]\n",
      "   [ 135.]\n",
      "   [ 123.]\n",
      "   ..., \n",
      "   [ 220.]\n",
      "   [ 179.]\n",
      "   [ 184.]]\n",
      "\n",
      "  [[ 127.]\n",
      "   [ 124.]\n",
      "   [ 128.]\n",
      "   ..., \n",
      "   [ 220.]\n",
      "   [ 190.]\n",
      "   [ 199.]]]]\n"
     ]
    }
   ],
   "source": []
  },
  {
   "cell_type": "code",
   "execution_count": null,
   "metadata": {},
   "outputs": [],
   "source": []
  }
 ],
 "metadata": {
  "kernelspec": {
   "display_name": "Python 3",
   "language": "python",
   "name": "python3"
  },
  "language_info": {
   "codemirror_mode": {
    "name": "ipython",
    "version": 3
   },
   "file_extension": ".py",
   "mimetype": "text/x-python",
   "name": "python",
   "nbconvert_exporter": "python",
   "pygments_lexer": "ipython3",
   "version": "3.5.0"
  }
 },
 "nbformat": 4,
 "nbformat_minor": 2
}
