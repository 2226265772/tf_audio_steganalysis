{
 "cells": [
  {
   "cell_type": "code",
   "execution_count": 2,
   "metadata": {
    "slideshow": {
     "slide_type": "-"
    }
   },
   "outputs": [],
   "source": [
    "import tensorflow as tf\n",
    "from skimage import io\n",
    "import numpy as np"
   ]
  },
  {
   "cell_type": "code",
   "execution_count": 76,
   "metadata": {
    "scrolled": false
   },
   "outputs": [
    {
     "name": "stdout",
     "output_type": "stream",
     "text": [
      "[[[132]\n",
      "  [127]\n",
      "  [119]\n",
      "  ..., \n",
      "  [111]\n",
      "  [114]\n",
      "  [114]]\n",
      "\n",
      " [[134]\n",
      "  [126]\n",
      "  [135]\n",
      "  ..., \n",
      "  [105]\n",
      "  [105]\n",
      "  [105]]\n",
      "\n",
      " [[136]\n",
      "  [137]\n",
      "  [141]\n",
      "  ..., \n",
      "  [113]\n",
      "  [114]\n",
      "  [112]]\n",
      "\n",
      " ..., \n",
      " [[123]\n",
      "  [130]\n",
      "  [136]\n",
      "  ..., \n",
      "  [175]\n",
      "  [192]\n",
      "  [206]]\n",
      "\n",
      " [[127]\n",
      "  [127]\n",
      "  [124]\n",
      "  ..., \n",
      "  [197]\n",
      "  [199]\n",
      "  [190]]\n",
      "\n",
      " [[127]\n",
      "  [123]\n",
      "  [123]\n",
      "  ..., \n",
      "  [201]\n",
      "  [194]\n",
      "  [185]]]\n"
     ]
    }
   ],
   "source": [
    "image_file_path = r\"F:\\papers\\FeaDistribution\\spa\\stego\\0.2\\0001.bmp\"\n",
    "img = io.imread(image_file_path)\n",
    "img = img[1000:1100, 1000:1100, 0:1]\n",
    "[height, width, channel] = np.shape(img)\n",
    "# img = np.reshape(img, [height, width, channel])\n",
    "img_new = np.zeros([2, height, width, channel], dtype=np.float32)\n",
    "img_new[0] = img\n",
    "img_new[1] = img"
   ]
  },
  {
   "cell_type": "code",
   "execution_count": 77,
   "metadata": {},
   "outputs": [
    {
     "name": "stdout",
     "output_type": "stream",
     "text": [
      "(2, 100, 100, 1)\n"
     ]
    }
   ],
   "source": [
    "img_tensor = tf.convert_to_tensor(img_new,\n",
    "                                 dtype=tf.float32)\n",
    "print(img_tensor.get_shape())"
   ]
  },
  {
   "cell_type": "code",
   "execution_count": 61,
   "metadata": {},
   "outputs": [],
   "source": [
    "downsampling_kernel1 = tf.constant(value=[1, 0, 0, 0],\n",
    "                                   dtype=tf.float32,\n",
    "                                   shape=[2, 2, 1, 1],\n",
    "                                   name=\"downsampling_kernel1\")\n",
    "\n",
    "downsampling_kernel2 = tf.constant(value=[0, 1, 0, 0],\n",
    "                                   dtype=tf.float32,\n",
    "                                   shape=[2, 2, 1, 1],\n",
    "                                   name=\"downsampling_kernel2\")\n",
    "\n",
    "downsampling_kernel3 = tf.constant(value=[0, 0, 1, 0],\n",
    "                                   dtype=tf.float32,\n",
    "                                   shape=[2, 2, 1, 1],\n",
    "                                   name=\"downsampling_kernel3\")\n",
    "\n",
    "downsampling_kernel4 = tf.constant(value=[0, 0, 0, 1],\n",
    "                                   dtype=tf.float32,\n",
    "                                   shape=[2, 2, 1, 1],\n",
    "                                   name=\"downsampling_kernel4\")"
   ]
  },
  {
   "cell_type": "code",
   "execution_count": 78,
   "metadata": {},
   "outputs": [
    {
     "data": {
      "text/plain": [
       "<tf.Tensor 'concat_8:0' shape=(2, 50, 50, 4) dtype=float32>"
      ]
     },
     "execution_count": 78,
     "metadata": {},
     "output_type": "execute_result"
    }
   ],
   "source": [
    "x_stride, y_stride = 2, 2\n",
    "padding = \"VALID\"\n",
    "conv1 = tf.nn.conv2d(input=img_tensor,\n",
    "                     filter=downsampling_kernel1,\n",
    "                     strides=[1, x_stride, y_stride, 1],\n",
    "                     padding=padding,\n",
    "                     name=\"conv1\")\n",
    "conv2 = tf.nn.conv2d(input=img_tensor,\n",
    "                     filter=downsampling_kernel2,\n",
    "                     strides=[1, x_stride, y_stride, 1],\n",
    "                     padding=padding,\n",
    "                     name=\"conv2\")\n",
    "conv3 = tf.nn.conv2d(input=img_tensor,\n",
    "                     filter=downsampling_kernel3,\n",
    "                     strides=[1, x_stride, y_stride, 1],\n",
    "                     padding=padding,\n",
    "                     name=\"conv3\")\n",
    "conv4 = tf.nn.conv2d(input=img_tensor,\n",
    "                     filter=downsampling_kernel4,\n",
    "                     strides=[1, x_stride, y_stride, 1],\n",
    "                     padding=padding,\n",
    "                     name=\"conv4\")\n",
    "tf.concat([conv1, conv2, conv3, conv4], 3)\n"
   ]
  },
  {
   "cell_type": "code",
   "execution_count": 79,
   "metadata": {},
   "outputs": [
    {
     "name": "stdout",
     "output_type": "stream",
     "text": [
      "(2, 50, 50, 1)\n"
     ]
    }
   ],
   "source": [
    "print(conv1.get_shape())"
   ]
  },
  {
   "cell_type": "code",
   "execution_count": 80,
   "metadata": {},
   "outputs": [],
   "source": [
    "def down_sampling(input_data, x_stride, y_stride, name, padding=\"VALID\"):\n",
    "    \"\"\"\n",
    "    get m * m(m is 2 in general) down sampling layer\n",
    "    :param input_data: the input data tensor [batch_size, height, width, channels]\n",
    "    :param x_stride: stride in X axis\n",
    "    :param y_stride: stride in Y axis\n",
    "    :param name: the name of the layer\n",
    "    :param padding: the padding method, \"SAME\" | \"VALID\"\n",
    "    :return:\n",
    "        feature_map: 4-D tensor [number, height, width, channel]\n",
    "    \"\"\"\n",
    "    conv1 = tf.nn.conv2d(input=input_data,\n",
    "                         filter=downsampling_kernel1,\n",
    "                         strides=[1, x_stride, y_stride, 1],\n",
    "                         padding=padding,\n",
    "                         name=\"conv1\")\n",
    "\n",
    "    conv2 = tf.nn.conv2d(input=input_data,\n",
    "                         filter=downsampling_kernel1,\n",
    "                         strides=[1, x_stride, y_stride, 1],\n",
    "                         padding=padding,\n",
    "                         name=\"conv2\")\n",
    "\n",
    "    conv3 = tf.nn.conv2d(input=input_data,\n",
    "                         filter=downsampling_kernel1,\n",
    "                         strides=[1, x_stride, y_stride, 1],\n",
    "                         padding=padding,\n",
    "                         name=\"conv3\")\n",
    "\n",
    "    conv4 = tf.nn.conv2d(input=input_data,\n",
    "                         filter=downsampling_kernel1,\n",
    "                         strides=[1, x_stride, y_stride, 1],\n",
    "                         padding=padding,\n",
    "                         name=\"conv4\")\n",
    "\n",
    "    conv_concat = tf.concat([conv1, conv2, conv3, conv4], 3, name=name)\n",
    "\n",
    "    return conv_concat"
   ]
  },
  {
   "cell_type": "code",
   "execution_count": 81,
   "metadata": {},
   "outputs": [
    {
     "name": "stdout",
     "output_type": "stream",
     "text": [
      "(2, 50, 50, 4)\n"
     ]
    }
   ],
   "source": [
    "conv = down_sampling(img_tensor, 2, 2, \"conv\", padding=\"VALID\")\n",
    "print(conv.get_shape())"
   ]
  },
  {
   "cell_type": "code",
   "execution_count": 96,
   "metadata": {},
   "outputs": [
    {
     "name": "stdout",
     "output_type": "stream",
     "text": [
      "(2, 50, 50, 4)\n",
      "[[[[ 132.]\n",
      "   [ 119.]\n",
      "   [ 126.]\n",
      "   ..., \n",
      "   [ 128.]\n",
      "   [ 117.]\n",
      "   [ 114.]]\n",
      "\n",
      "  [[ 136.]\n",
      "   [ 141.]\n",
      "   [ 144.]\n",
      "   ..., \n",
      "   [ 110.]\n",
      "   [ 116.]\n",
      "   [ 114.]]\n",
      "\n",
      "  [[ 112.]\n",
      "   [ 122.]\n",
      "   [ 132.]\n",
      "   ..., \n",
      "   [ 109.]\n",
      "   [ 110.]\n",
      "   [ 112.]]\n",
      "\n",
      "  ..., \n",
      "  [[ 128.]\n",
      "   [ 116.]\n",
      "   [ 127.]\n",
      "   ..., \n",
      "   [ 224.]\n",
      "   [ 213.]\n",
      "   [ 185.]]\n",
      "\n",
      "  [[ 124.]\n",
      "   [ 135.]\n",
      "   [ 123.]\n",
      "   ..., \n",
      "   [ 220.]\n",
      "   [ 179.]\n",
      "   [ 184.]]\n",
      "\n",
      "  [[ 127.]\n",
      "   [ 124.]\n",
      "   [ 128.]\n",
      "   ..., \n",
      "   [ 220.]\n",
      "   [ 190.]\n",
      "   [ 199.]]]]\n"
     ]
    }
   ],
   "source": []
  },
  {
   "cell_type": "code",
   "execution_count": 97,
   "metadata": {},
   "outputs": [],
   "source": [
    "np.random.shuffle(img)"
   ]
  },
  {
   "cell_type": "code",
   "execution_count": 112,
   "metadata": {},
   "outputs": [],
   "source": [
    "from glob import glob\n",
    "def read_data(cover_files_path, stego_files_path, start_idx=None, end_idx=None, is_shuffle=True):\n",
    "    \"\"\"\n",
    "    read file names from the storage\n",
    "    :param cover_files_path: the folder name of cover files\n",
    "    :param stego_files_path: the folder name of stego files\n",
    "    :param start_idx: the start index\n",
    "    :param end_idx: the end index\n",
    "    :param is_shuffle: whether shuffle or not (default is True)\n",
    "    :return:\n",
    "        cover_data_list: list of cover data\n",
    "        cover_label_list: list of cover label\n",
    "        stego_data_list: list of stego data\n",
    "        stego_label_list: list of stego label\n",
    "    \"\"\"\n",
    "    cover_files_list = get_files_list(cover_files_path)         # data list of cover files\n",
    "    stego_files_list = get_files_list(stego_files_path)         # data list of stego files\n",
    "    sample_num = len(cover_files_list)                          # total pairs of samples\n",
    "    cover_label_list = np.zeros(sample_num, np.int32)           # label list of cover files\n",
    "    stego_label_list = np.ones(sample_num, np.int32)            # label list of stego files\n",
    "\n",
    "    temp = np.array([cover_files_list, cover_label_list, stego_files_list, stego_label_list])\n",
    "    print(temp[0:2])\n",
    "    temp_t = temp.transpose()\n",
    "    print(temp_t[0:2])\n",
    "\n",
    "    if is_shuffle is True:\n",
    "        np.random.shuffle(temp_t)\n",
    "\n",
    "    if start_idx is not None and start_idx > sample_num:\n",
    "        start_idx = 0\n",
    "    if end_idx is not None and end_idx > sample_num:\n",
    "        end_idx = sample_num + 1\n",
    "\n",
    "    cover_data_list = list(temp_t[start_idx:end_idx, 0])\n",
    "    cover_label_list = list(temp_t[start_idx:end_idx, 1])\n",
    "\n",
    "    stego_data_list = list(temp_t[start_idx:end_idx, 2])\n",
    "    stego_label_list = list(temp_t[start_idx:end_idx, 3])\n",
    "\n",
    "    return cover_data_list, cover_label_list, stego_data_list, stego_label_list\n",
    "\n",
    "def get_files_list(file_dir, file_type=\"txt\", start_idx=None, end_idx=None):\n",
    "    \"\"\"\n",
    "    get the files list\n",
    "    :param file_dir: file directory\n",
    "    :param file_type: type of files, \"*\" is to get all files in this folder\n",
    "    :param start_idx: start index\n",
    "    :param end_idx: end index\n",
    "    :return:\n",
    "        file_list: a list containing full file path\n",
    "    \"\"\"\n",
    "    pattern = \"/*.\" + file_type\n",
    "    file_list = sorted(glob(file_dir + pattern))\n",
    "    total_num = len(file_list)\n",
    "    if type(start_idx) is int and start_idx > total_num:\n",
    "        start_idx = None\n",
    "    if type(end_idx) is int and end_idx > total_num:\n",
    "        end_idx = None\n",
    "    print(start_idx, end_idx)\n",
    "    file_list = file_list[start_idx:end_idx]\n",
    "\n",
    "    return file_list\n",
    "\n",
    "def minibatches(cover_datas=None, cover_labels=None, stego_datas=None, stego_labels=None, batchsize=None):\n",
    "    \"\"\"\n",
    "    read data batch by batch\n",
    "    :param cover_datas: file name list (cover)\n",
    "    :param cover_labels: label list(cover)\n",
    "    :param stego_datas: file name list (stego)\n",
    "    :param stego_labels: label list (stego)\n",
    "    :param batchsize: batch size\n",
    "    :return:\n",
    "        yield datas and labels\n",
    "    \"\"\"\n",
    "    for start_idx in range(0, len(cover_datas) - batchsize // 2 + 1, batchsize // 2):\n",
    "        excerpt = slice(start_idx, start_idx + batchsize // 2)\n",
    "        datas = cover_datas[excerpt]\n",
    "        datas.extend(stego_datas[excerpt])\n",
    "        labels = cover_labels[excerpt]\n",
    "        labels.extend(stego_labels[excerpt])\n",
    "\n",
    "        yield datas, labels"
   ]
  },
  {
   "cell_type": "code",
   "execution_count": 113,
   "metadata": {},
   "outputs": [
    {
     "name": "stdout",
     "output_type": "stream",
     "text": [
      "None None\n",
      "None None\n",
      "[[ 'E:\\\\Myself\\\\2.database\\\\10.QMDCT\\\\cover\\\\cover_10s\\\\128\\\\test\\\\wav10s_32001.txt'\n",
      "  'E:\\\\Myself\\\\2.database\\\\10.QMDCT\\\\cover\\\\cover_10s\\\\128\\\\test\\\\wav10s_32002.txt'\n",
      "  'E:\\\\Myself\\\\2.database\\\\10.QMDCT\\\\cover\\\\cover_10s\\\\128\\\\test\\\\wav10s_32003.txt'\n",
      "  ...,\n",
      "  'E:\\\\Myself\\\\2.database\\\\10.QMDCT\\\\cover\\\\cover_10s\\\\128\\\\test\\\\wav10s_33036.txt'\n",
      "  'E:\\\\Myself\\\\2.database\\\\10.QMDCT\\\\cover\\\\cover_10s\\\\128\\\\test\\\\wav10s_33037.txt'\n",
      "  'E:\\\\Myself\\\\2.database\\\\10.QMDCT\\\\cover\\\\cover_10s\\\\128\\\\test\\\\wav10s_33038.txt']\n",
      " ['0' '0' '0' ..., '0' '0' '0']]\n",
      "[[ 'E:\\\\Myself\\\\2.database\\\\10.QMDCT\\\\cover\\\\cover_10s\\\\128\\\\test\\\\wav10s_32001.txt'\n",
      "  '0'\n",
      "  'E:\\\\Myself\\\\2.database\\\\10.QMDCT\\\\stego\\\\EECS\\\\EECS_B_128_W_2_H_7_ER_10\\\\test\\\\wav10s_32001.txt'\n",
      "  '1']\n",
      " [ 'E:\\\\Myself\\\\2.database\\\\10.QMDCT\\\\cover\\\\cover_10s\\\\128\\\\test\\\\wav10s_32002.txt'\n",
      "  '0'\n",
      "  'E:\\\\Myself\\\\2.database\\\\10.QMDCT\\\\stego\\\\EECS\\\\EECS_B_128_W_2_H_7_ER_10\\\\test\\\\wav10s_32002.txt'\n",
      "  '1']]\n",
      "<generator object minibatches at 0x00000234801260A0>\n",
      "cover:  ['E:\\\\Myself\\\\2.database\\\\10.QMDCT\\\\cover\\\\cover_10s\\\\128\\\\test\\\\wav10s_32027.txt', 'E:\\\\Myself\\\\2.database\\\\10.QMDCT\\\\cover\\\\cover_10s\\\\128\\\\test\\\\wav10s_32804.txt', 'E:\\\\Myself\\\\2.database\\\\10.QMDCT\\\\cover\\\\cover_10s\\\\128\\\\test\\\\wav10s_32658.txt', 'E:\\\\Myself\\\\2.database\\\\10.QMDCT\\\\cover\\\\cover_10s\\\\128\\\\test\\\\wav10s_32625.txt', 'E:\\\\Myself\\\\2.database\\\\10.QMDCT\\\\cover\\\\cover_10s\\\\128\\\\test\\\\wav10s_32629.txt']\n",
      "\n",
      "\n",
      "stego:  ['E:\\\\Myself\\\\2.database\\\\10.QMDCT\\\\stego\\\\EECS\\\\EECS_B_128_W_2_H_7_ER_10\\\\test\\\\wav10s_32027.txt', 'E:\\\\Myself\\\\2.database\\\\10.QMDCT\\\\stego\\\\EECS\\\\EECS_B_128_W_2_H_7_ER_10\\\\test\\\\wav10s_32804.txt', 'E:\\\\Myself\\\\2.database\\\\10.QMDCT\\\\stego\\\\EECS\\\\EECS_B_128_W_2_H_7_ER_10\\\\test\\\\wav10s_32658.txt', 'E:\\\\Myself\\\\2.database\\\\10.QMDCT\\\\stego\\\\EECS\\\\EECS_B_128_W_2_H_7_ER_10\\\\test\\\\wav10s_32625.txt', 'E:\\\\Myself\\\\2.database\\\\10.QMDCT\\\\stego\\\\EECS\\\\EECS_B_128_W_2_H_7_ER_10\\\\test\\\\wav10s_32629.txt']\n"
     ]
    }
   ],
   "source": [
    "cover_files_path = r\"E:\\Myself\\2.database\\10.QMDCT\\cover\\cover_10s\\128\\test\"\n",
    "stego_files_path = r\"E:\\Myself\\2.database\\10.QMDCT\\stego\\EECS\\EECS_B_128_W_2_H_7_ER_10\\test\"\n",
    "a, b, c, d = read_data(cover_files_path, stego_files_path, start_idx=None, end_idx=None, is_shuffle=True)\n",
    "\n",
    "for i in minibatches(a, b, c, d):\n",
    "    print(i)\n",
    "print(\"cover: \", a[0:5])\n",
    "print(\"\\n\")\n",
    "print(\"stego: \", c[0:5])"
   ]
  },
  {
   "cell_type": "code",
   "execution_count": null,
   "metadata": {},
   "outputs": [],
   "source": []
  }
 ],
 "metadata": {
  "kernelspec": {
   "display_name": "Python 3",
   "language": "python",
   "name": "python3"
  },
  "language_info": {
   "codemirror_mode": {
    "name": "ipython",
    "version": 3
   },
   "file_extension": ".py",
   "mimetype": "text/x-python",
   "name": "python",
   "nbconvert_exporter": "python",
   "pygments_lexer": "ipython3",
   "version": "3.5.0"
  }
 },
 "nbformat": 4,
 "nbformat_minor": 2
}
