{
 "cells": [
  {
   "cell_type": "code",
   "execution_count": 3,
   "metadata": {},
   "outputs": [
    {
     "name": "stdout",
     "output_type": "stream",
     "text": [
      "Extracting E:/Anaconda3/workspace/MNIST_data/train-images-idx3-ubyte.gz\n",
      "Extracting E:/Anaconda3/workspace/MNIST_data/train-labels-idx1-ubyte.gz\n",
      "Extracting E:/Anaconda3/workspace/MNIST_data/t10k-images-idx3-ubyte.gz\n",
      "Extracting E:/Anaconda3/workspace/MNIST_data/t10k-labels-idx1-ubyte.gz\n"
     ]
    }
   ],
   "source": [
    "import tensorflow as tf\n",
    "from tensorflow.examples.tutorials.mnist import input_data\n",
    "\n",
    "tf.reset_default_graph()\n",
    "\n",
    "# Hyper Parameters\n",
    "learning_rate = 0.01    # 学习率\n",
    "n_steps = 28            # LSTM 展开步数（时序持续长度）\n",
    "n_inputs = 28           # 输入节点数\n",
    "n_hiddens = 64         # 隐层节点数\n",
    "n_layers = 2            # LSTM layer 层数\n",
    "n_classes = 10          # 输出节点数（分类数目）\n",
    "\n",
    "# data\n",
    "mnist = input_data.read_data_sets(\"E:/Anaconda3/workspace/MNIST_data/\", one_hot=True)\n",
    "test_x = mnist.test.images\n",
    "test_y = mnist.test.labels"
   ]
  },
  {
   "cell_type": "code",
   "execution_count": 4,
   "metadata": {},
   "outputs": [],
   "source": [
    "# tensor placeholder\n",
    "with tf.name_scope('inputs'):\n",
    "    x = tf.placeholder(tf.float32, [None, n_steps * n_inputs], name='x_input')     # 输入\n",
    "    y = tf.placeholder(tf.float32, [None, n_classes], name='y_input')               # 输出\n",
    "    keep_prob = tf.placeholder(tf.float32, name='keep_prob_input')           # 保持多少不被 dropout\n",
    "    batch_size = tf.placeholder(tf.int32, [], name='batch_size_input')       # 批大小\n",
    "\n",
    "# weights and biases\n",
    "with tf.name_scope('weights'):\n",
    "    Weights = tf.Variable(tf.truncated_normal([n_hiddens, n_classes],stddev=0.1), dtype=tf.float32, name='W')\n",
    "    tf.summary.histogram('output_layer_weights', Weights)\n",
    "with tf.name_scope('biases'):\n",
    "    biases = tf.Variable(tf.random_normal([n_classes]), name='b')\n",
    "    tf.summary.histogram('output_layer_biases', biases)"
   ]
  },
  {
   "cell_type": "code",
   "execution_count": null,
   "metadata": {},
   "outputs": [],
   "source": [
    "\n",
    "print()"
   ]
  },
  {
   "cell_type": "code",
   "execution_count": 5,
   "metadata": {},
   "outputs": [],
   "source": [
    "def RNN_LSTM(x, Weights, biases):\n",
    "    # RNN 输入 reshape\n",
    "    x = tf.reshape(x, [-1, n_steps, n_inputs])\n",
    "    # 定义 LSTM cell\n",
    "    # cell 中的 dropout\n",
    "    def attn_cell():\n",
    "        lstm_cell = tf.contrib.rnn.BasicLSTMCell(n_hiddens)\n",
    "        with tf.name_scope('lstm_dropout'):\n",
    "            return tf.contrib.rnn.DropoutWrapper(lstm_cell, output_keep_prob=keep_prob)\n",
    "    # attn_cell = tf.contrib.rnn.DropoutWrapper(lstm_cell, output_keep_prob=keep_prob)\n",
    "    # 实现多层 LSTM\n",
    "    # [attn_cell() for _ in range(n_layers)]\n",
    "    enc_cells = []\n",
    "    for i in range(0, n_layers):\n",
    "        enc_cells.append(attn_cell())\n",
    "    with tf.name_scope('lstm_cells_layers'):\n",
    "        mlstm_cell = tf.contrib.rnn.MultiRNNCell(enc_cells, state_is_tuple=True)\n",
    "    # 全零初始化 state\n",
    "    _init_state = mlstm_cell.zero_state(batch_size, dtype=tf.float32)\n",
    "    # dynamic_rnn 运行网络\n",
    "    outputs, states = tf.nn.dynamic_rnn(mlstm_cell, x, initial_state=_init_state, dtype=tf.float32, time_major=False)\n",
    "    # 输出\n",
    "    #return tf.matmul(outputs[:,-1,:], Weights) + biases\n",
    "    return tf.nn.softmax(tf.matmul(outputs[:,-1,:], Weights) + biases)"
   ]
  },
  {
   "cell_type": "code",
   "execution_count": 6,
   "metadata": {},
   "outputs": [],
   "source": [
    "with tf.name_scope('output_layer'):\n",
    "    pred = RNN_LSTM(x, Weights, biases)\n",
    "    tf.summary.histogram('outputs', pred)\n",
    "# cost\n",
    "with tf.name_scope('loss'):\n",
    "    #cost = tf.reduce_mean(tf.nn.softmax_cross_entropy_with_logits(logits=pred, labels=y))\n",
    "    cost = tf.reduce_mean(-tf.reduce_sum(y * tf.log(pred),reduction_indices=[1]))\n",
    "    tf.summary.scalar('loss', cost)\n",
    "# optimizer\n",
    "with tf.name_scope('train'):\n",
    "    train_op = tf.train.AdamOptimizer(learning_rate=learning_rate).minimize(cost)\n",
    "\n",
    "# correct_pred = tf.equal(tf.argmax(pred, 1), tf.argmax(y, 1))\n",
    "# accuarcy = tf.reduce_mean(tf.cast(correct_pred, tf.float32))\n",
    "with tf.name_scope('accuracy'):\n",
    "    accuracy = tf.metrics.accuracy(labels=tf.argmax(y, axis=1), predictions=tf.argmax(pred, axis=1))[1]\n",
    "    tf.summary.scalar('accuracy', accuracy)\n",
    "\n",
    "merged = tf.summary.merge_all()\n",
    "\n",
    "init = tf.group(tf.global_variables_initializer(), tf.local_variables_initializer())"
   ]
  },
  {
   "cell_type": "code",
   "execution_count": 7,
   "metadata": {},
   "outputs": [
    {
     "name": "stdout",
     "output_type": "stream",
     "text": [
      "Optimization Finished!\n",
      "Testing Accuracy: 0.959964\n"
     ]
    }
   ],
   "source": [
    "with tf.Session() as sess:\n",
    "    sess.run(init)\n",
    "    train_writer = tf.summary.FileWriter(\"E://logs//train\",sess.graph)\n",
    "    test_writer = tf.summary.FileWriter(\"E://logs//test\",sess.graph)\n",
    "    # training\n",
    "    step = 1\n",
    "    for i in range(2000):\n",
    "        _batch_size = 128\n",
    "        batch_x, batch_y = mnist.train.next_batch(_batch_size)\n",
    "\n",
    "        sess.run(train_op, feed_dict={x:batch_x, y:batch_y, keep_prob:0.5, batch_size:_batch_size})\n",
    "        if (i + 1) % 100 == 0:\n",
    "            #loss = sess.run(cost, feed_dict={x:batch_x, y:batch_y, keep_prob:1.0, batch_size:_batch_size})\n",
    "            #acc = sess.run(accuracy, feed_dict={x:batch_x, y:batch_y, keep_prob:1.0, batch_size:_batch_size})\n",
    "            #print('Iter: %d' % ((i+1) * _batch_size), '| train loss: %.6f' % loss, '| train accuracy: %.6f' % acc)\n",
    "            train_result = sess.run(merged, feed_dict={x:batch_x, y:batch_y, keep_prob:1.0, batch_size:_batch_size})\n",
    "            test_result = sess.run(merged, feed_dict={x:test_x, y:test_y, keep_prob:1.0, batch_size:test_x.shape[0]})\n",
    "            train_writer.add_summary(train_result,i+1)\n",
    "            test_writer.add_summary(test_result,i+1)\n",
    "\n",
    "    print(\"Optimization Finished!\")\n",
    "    # prediction\n",
    "    print(\"Testing Accuracy:\", sess.run(accuracy, feed_dict={x:test_x, y:test_y, keep_prob:1.0, batch_size:test_x.shape[0]}))"
   ]
  },
  {
   "cell_type": "code",
   "execution_count": null,
   "metadata": {},
   "outputs": [],
   "source": []
  }
 ],
 "metadata": {
  "kernelspec": {
   "display_name": "Python 3",
   "language": "python",
   "name": "python3"
  },
  "language_info": {
   "codemirror_mode": {
    "name": "ipython",
    "version": 3
   },
   "file_extension": ".py",
   "mimetype": "text/x-python",
   "name": "python",
   "nbconvert_exporter": "python",
   "pygments_lexer": "ipython3",
   "version": "3.5.0"
  }
 },
 "nbformat": 4,
 "nbformat_minor": 2
}
